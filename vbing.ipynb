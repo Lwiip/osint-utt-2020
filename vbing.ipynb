{
 "cells": [
  {
   "cell_type": "code",
   "execution_count": 1,
   "metadata": {},
   "outputs": [
    {
     "name": "stdout",
     "output_type": "stream",
     "text": [
      "Requirement already satisfied: validators in /home/louis/Documents/python/osint/lib/python3.7/site-packages (0.18.2)\r\n",
      "Requirement already satisfied: decorator>=3.4.0 in /home/louis/Documents/python/osint/lib/python3.7/site-packages (from validators) (4.4.2)\r\n",
      "Requirement already satisfied: six>=1.4.0 in /home/louis/Documents/python/osint/lib/python3.7/site-packages (from validators) (1.15.0)\r\n"
     ]
    }
   ],
   "source": [
    "from selenium import webdriver\n",
    "from selenium.webdriver.common import keys, action_chains\n",
    "#used for sleep\n",
    "import time\n",
    "#used for extracting domains from url\n",
    "from urllib.parse import urlparse\n",
    "#used to check if it's a valide domain\n",
    "# pip install validators\n",
    "import sys\n",
    "!{sys.executable} -m pip install validators\n",
    "import validators"
   ]
  },
  {
   "cell_type": "code",
   "execution_count": 2,
   "metadata": {},
   "outputs": [],
   "source": [
    "#ip to look for\n",
    "ip = '151.101.194.217'"
   ]
  },
  {
   "cell_type": "code",
   "execution_count": 7,
   "metadata": {},
   "outputs": [],
   "source": [
    "#vhost search in bing\n",
    "browser=webdriver.Firefox()\n",
    "browser.get('https://www.bing.com')\n",
    "\n",
    "\n",
    "\n",
    "\n",
    "element = browser.find_element_by_id('sb_form_q')\n",
    "element.send_keys('ip: {}'.format(ip))\n",
    "element.send_keys(keys.Keys.ENTER)"
   ]
  },
  {
   "cell_type": "code",
   "execution_count": 8,
   "metadata": {},
   "outputs": [
    {
     "name": "stdout",
     "output_type": "stream",
     "text": [
      "['tenor.com', 'www.minodusud.com', 'www.betterbathrooms.com', 'kahoot.com', 'www.kyc6.com', 'carvanaaccess.com', 'thehill.com', 'www.clicksend.com']\n"
     ]
    }
   ],
   "source": [
    "#sleep to wait the rendering and download of the page\n",
    "time.sleep(1)\n",
    "elements = browser.find_elements_by_class_name('b_attribution')\n",
    "\n",
    "#Get domains\n",
    "domains = []\n",
    "for link in elements:\n",
    "    if validators.domain(link.text):\n",
    "        domains.append(link.text)\n",
    "    else:\n",
    "        domain = urlparse(link.text).netloc\n",
    "        if validators.domain(domain):\n",
    "            domains.append(domain)\n",
    "        else:\n",
    "            continue\n",
    "            \n",
    "uniqdomains = set(domains)\n",
    "domains = list(uniqdomains)\n",
    "print(domains)\n"
   ]
  },
  {
   "cell_type": "code",
   "execution_count": null,
   "metadata": {},
   "outputs": [],
   "source": [
    "browser.close()"
   ]
  },
  {
   "cell_type": "code",
   "execution_count": null,
   "metadata": {},
   "outputs": [],
   "source": []
  }
 ],
 "metadata": {
  "kernelspec": {
   "display_name": "Python 3",
   "language": "python",
   "name": "python3"
  },
  "language_info": {
   "codemirror_mode": {
    "name": "ipython",
    "version": 3
   },
   "file_extension": ".py",
   "mimetype": "text/x-python",
   "name": "python",
   "nbconvert_exporter": "python",
   "pygments_lexer": "ipython3",
   "version": "3.7.3"
  }
 },
 "nbformat": 4,
 "nbformat_minor": 4
}
